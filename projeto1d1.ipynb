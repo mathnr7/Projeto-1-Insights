{
 "cells": [
  {
   "cell_type": "code",
   "execution_count": 2,
   "metadata": {
    "scrolled": true
   },
   "outputs": [
    {
     "name": "stdout",
     "output_type": "stream",
     "text": [
      "       Unnamed: 0  Unnamed: 0.1          id     price  bedrooms  bathrooms  \\\n",
      "0               0             0  7129300520  221900.0         3       1.00   \n",
      "1               1             1  6414100192  538000.0         3       2.25   \n",
      "2               2             2  5631500400  180000.0         2       1.00   \n",
      "3               3             3  2487200875  604000.0         4       3.00   \n",
      "4               4             4  1954400510  510000.0         3       2.00   \n",
      "...           ...           ...         ...       ...       ...        ...   \n",
      "21608       21608         21608   263000018  360000.0         3       2.50   \n",
      "21609       21609         21609  6600060120  400000.0         4       2.50   \n",
      "21610       21610         21610  1523300141  402101.0         2       0.75   \n",
      "21611       21611         21611   291310100  400000.0         3       2.50   \n",
      "21612       21612         21612  1523300157  325000.0         2       0.75   \n",
      "\n",
      "       sqft_living  sqft_lot  floors  waterfront  view  condition  grade  \\\n",
      "0             1180      5650     1.0           0     0          3      7   \n",
      "1             2570      7242     2.0           0     0          3      7   \n",
      "2              770     10000     1.0           0     0          3      6   \n",
      "3             1960      5000     1.0           0     0          5      7   \n",
      "4             1680      8080     1.0           0     0          3      8   \n",
      "...            ...       ...     ...         ...   ...        ...    ...   \n",
      "21608         1530      1131     3.0           0     0          3      8   \n",
      "21609         2310      5813     2.0           0     0          3      8   \n",
      "21610         1020      1350     2.0           0     0          3      7   \n",
      "21611         1600      2388     2.0           0     0          3      8   \n",
      "21612         1020      1076     2.0           0     0          3      7   \n",
      "\n",
      "       sqft_above  sqft_basement  yr_built  yr_renovated  \n",
      "0            1180              0      1955             0  \n",
      "1            2170            400      1951          1991  \n",
      "2             770              0      1933             0  \n",
      "3            1050            910      1965             0  \n",
      "4            1680              0      1987             0  \n",
      "...           ...            ...       ...           ...  \n",
      "21608        1530              0      2009             0  \n",
      "21609        2310              0      2014             0  \n",
      "21610        1020              0      2009             0  \n",
      "21611        1600              0      2004             0  \n",
      "21612        1020              0      2008             0  \n",
      "\n",
      "[21613 rows x 17 columns]\n"
     ]
    }
   ],
   "source": [
    "import pandas as pd\n",
    "\n",
    "df = pd.read_csv('modified.csv')"
   ]
  },
  {
   "cell_type": "code",
   "execution_count": 1,
   "metadata": {},
   "outputs": [
    {
     "output_type": "error",
     "ename": "NameError",
     "evalue": "name 'df' is not defined",
     "traceback": [
      "\u001b[1;31m---------------------------------------------------------------------------\u001b[0m",
      "\u001b[1;31mNameError\u001b[0m                                 Traceback (most recent call last)",
      "\u001b[1;32m<ipython-input-1-99a568f4c83d>\u001b[0m in \u001b[0;36m<module>\u001b[1;34m\u001b[0m\n\u001b[0;32m      5\u001b[0m \u001b[0mQual\u001b[0m \u001b[0mo\u001b[0m \u001b[0mincremento\u001b[0m \u001b[0mno\u001b[0m \u001b[0mpreço\u001b[0m \u001b[0mdado\u001b[0m \u001b[0mpela\u001b[0m \u001b[0mreforma\u001b[0m\u001b[0;31m?\u001b[0m\u001b[1;33m\u001b[0m\u001b[1;33m\u001b[0m\u001b[0m\n\u001b[0;32m      6\u001b[0m \"\"\"\n\u001b[1;32m----> 7\u001b[1;33m \u001b[0mprint\u001b[0m\u001b[1;33m(\u001b[0m\u001b[0mdf\u001b[0m\u001b[1;33m)\u001b[0m\u001b[1;33m\u001b[0m\u001b[1;33m\u001b[0m\u001b[0m\n\u001b[0m",
      "\u001b[1;31mNameError\u001b[0m: name 'df' is not defined"
     ]
    }
   ],
   "source": [
    "\"\"\"\n",
    "Extenso:\n",
    "Quais casas o CEO da House Rocket deveria comprar e reformar para aumentar o preço de venda? \n",
    "Quais seriam as sugestões de mudanças? \n",
    "Qual o incremento no preço dado pela reforma? \n",
    "\"\"\"\n",
    "print(df)"
   ]
  },
  {
   "cell_type": "code",
   "execution_count": 4,
   "metadata": {
    "scrolled": true
   },
   "outputs": [
    {
     "name": "stdout",
     "output_type": "stream",
     "text": [
      "       Unnamed: 0  Unnamed: 0.1          id      price  bedrooms  bathrooms  \\\n",
      "2964         2964          2964  2322029048   999000.0         3       2.75   \n",
      "7077         7077          7077  2724079090  1650000.0         4       3.25   \n",
      "17825       17825         17825  2220069003   425000.0         3       2.75   \n",
      "20452       20452         20452  1125079111  1600000.0         4       5.50   \n",
      "\n",
      "       sqft_living  sqft_lot  floors  waterfront  view  condition  grade  \\\n",
      "2964          2830    505166     1.0           1     3          4      8   \n",
      "7077          3920    881654     3.0           0     3          3     11   \n",
      "17825         1360    542322     1.0           0     2          4      7   \n",
      "20452         6530    871200     2.0           0     2          3     11   \n",
      "\n",
      "       sqft_above  sqft_basement  yr_built  yr_renovated  \n",
      "2964         1830           1000      1962             0  \n",
      "7077         3920              0      2002             0  \n",
      "17825        1140            220      1955             0  \n",
      "20452        6530              0      2008             0  \n"
     ]
    }
   ],
   "source": [
    "\"\"\"\n",
    "Quais casas o CEO da House Rocket deveria comprar? \n",
    "Todas as casas com price <= 2000000, bedroooms >= 3, bathrooms >= 2, sqft_lot >= 500000, view >= 2, e yr_renovated == 0\n",
    "\"\"\"\n",
    "\n",
    "df_mask1=df['price']<=2000000\n",
    "df_mask2=df['bedrooms']>=1\n",
    "df_mask3=df['bathrooms']>=2\n",
    "df_mask4=df['sqft_lot']>=500000\n",
    "df_mask5=df['view']>=1\n",
    "df_mask6=df['yr_renovated']==0\n",
    "filtered_df = df[df_mask1 & df_mask2 & df_mask3 & df_mask4 & df_mask5 & df_mask6]\n",
    "print(filtered_df)"
   ]
  }
 ],
 "metadata": {
  "kernelspec": {
   "display_name": "Python 3",
   "language": "python",
   "name": "python3"
  },
  "language_info": {
   "codemirror_mode": {
    "name": "ipython",
    "version": 3
   },
   "file_extension": ".py",
   "mimetype": "text/x-python",
   "name": "python",
   "nbconvert_exporter": "python",
   "pygments_lexer": "ipython3",
   "version": "3.8.5-final"
  }
 },
 "nbformat": 4,
 "nbformat_minor": 4
}