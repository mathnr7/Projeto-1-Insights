{
 "metadata": {
  "language_info": {
   "codemirror_mode": {
    "name": "ipython",
    "version": 3
   },
   "file_extension": ".py",
   "mimetype": "text/x-python",
   "name": "python",
   "nbconvert_exporter": "python",
   "pygments_lexer": "ipython3",
   "version": "3.8.5-final"
  },
  "orig_nbformat": 2,
  "kernelspec": {
   "name": "python3",
   "display_name": "Python 3",
   "language": "python"
  }
 },
 "nbformat": 4,
 "nbformat_minor": 2,
 "cells": [
  {
   "cell_type": "code",
   "execution_count": 5,
   "metadata": {},
   "outputs": [],
   "source": [
    "import pandas as pd\n",
    "\n",
    "df = pd.read_csv('modified.csv')"
   ]
  },
  {
   "cell_type": "code",
   "execution_count": 16,
   "metadata": {},
   "outputs": [
    {
     "output_type": "execute_result",
     "data": {
      "text/plain": [
       "\"\\n#3-\\ndf_mask0=df['price']<=350000\\ndf_mask1=df['bedrooms']==3\\ndf_mask2=df['bathrooms']==2\\ndf_mask3=df['floors']==1\\ndf_mask4=df['view']==3\\ndf_mask5=df['yr_built']>=1990 \\nfiltered_df = df[df_mask0 & df_mask1 & df_mask2 & df_mask3 & df_mask4 & df_mask5]\\nprint(filtered_df)\\n\""
      ]
     },
     "metadata": {},
     "execution_count": 16
    }
   ],
   "source": [
    "\"\"\"\n",
    "3 clientes distintos apareceram na corretora e estipularam os detalhes que gostariam de encontrar numa casa \n",
    "1 - 5 quartos, 3 banheiros, 2 andares, 2 pontos de vista\n",
    "2 - Menos de 550.000,00, 4 quartos, 2 banheiros, 1 andar, 3 pontos de vista e construida ou reformada depois do ano de 2005 \n",
    "3 - Menos de 350.000,00, 2 quarto, 2 banheiros, 1 andar, 3 pontos de vista e construida ou reformada  entre 1990 e 2010\n",
    "\"\"\"\n",
    "\"\"\"\n",
    "#1-\n",
    "df_mask0=df['bedrooms']==5\n",
    "df_mask1=df['bathrooms']==3\n",
    "df_mask2=df['floors']==2\n",
    "df_mask3=df['view']>=2\n",
    "filtered_df = df[df_mask0 & df_mask1 & df_mask2 & df_mask3]\n",
    "print(filtered_df)\n",
    "\"\"\"\n",
    "\"\"\"\n",
    "#2-\n",
    "df_mask0=df['price']<=550000\n",
    "df_mask1=df['bedrooms']==4\n",
    "df_mask2=df['bathrooms']==2\n",
    "df_mask3=df['floors']==1\n",
    "df_mask4=df['view']>=3\n",
    "df_mask5=df['yr_built']>=2006\n",
    "filtered_df = df[df_mask0 & df_mask1 & df_mask2 & df_mask3 & df_mask4 & df_mask5]\n",
    "print(filtered_df)\n",
    "\"\"\"\n",
    "\"\"\"\n",
    "#3-\n",
    "df_mask0=df['price']<=350000\n",
    "df_mask1=df['bedrooms']==3\n",
    "df_mask2=df['bathrooms']==2\n",
    "df_mask3=df['floors']==1\n",
    "df_mask4=df['view']==3\n",
    "df_mask5=df['yr_built']>=1990 \n",
    "filtered_df = df[df_mask0 & df_mask1 & df_mask2 & df_mask3 & df_mask4 & df_mask5]\n",
    "print(filtered_df)\n",
    "\"\"\""
   ]
  }
 ]
}